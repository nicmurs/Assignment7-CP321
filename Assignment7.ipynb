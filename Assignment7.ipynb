{
 "cells": [
  {
   "cell_type": "code",
   "execution_count": 1,
   "metadata": {},
   "outputs": [],
   "source": [
    "from dash import Dash, html, dcc, callback, Output, Input\n",
    "import pandas as pd\n",
    "import numpy as np\n",
    "import plotly.express as px"
   ]
  },
  {
   "cell_type": "code",
   "execution_count": 2,
   "metadata": {},
   "outputs": [
    {
     "data": {
      "text/html": [
       "\n",
       "        <iframe\n",
       "            width=\"100%\"\n",
       "            height=\"650\"\n",
       "            src=\"http://127.0.0.1:8050/\"\n",
       "            frameborder=\"0\"\n",
       "            allowfullscreen\n",
       "            \n",
       "        ></iframe>\n",
       "        "
      ],
      "text/plain": [
       "<IPython.lib.display.IFrame at 0x106351370>"
      ]
     },
     "metadata": {},
     "output_type": "display_data"
    }
   ],
   "source": [
    "df = pd.read_csv(\"FIFAWinners.csv\")\n",
    "app = Dash()\n",
    "\n",
    "winner_count = df[\"Winner\"].value_counts().reset_index()\n",
    "winner_count.columns=[\"Country\", \"Wins\"]\n",
    "\n",
    "fig = px.choropleth(\n",
    "    winner_count,\n",
    "    locations=\"Country\",\n",
    "    locationmode=\"country names\",\n",
    "    color=\"Wins\",\n",
    "    color_continuous_scale = \"Purples\",\n",
    "    title='FIFA World Cup Winners (Number of Wins)',\n",
    "    labels = {\"Wins\": \"Wins in Total\"}\n",
    ")\n",
    "\n",
    "app.layout = html.Div([\n",
    "    html.H1(\"FIFA World Cup Winners & Runner-Up Dashboard\", style={\"text-align\":\"center\", \"color\":\"white\"}),\n",
    "    dcc.Graph(id=\"World_map\", figure =fig),\n",
    "\n",
    "    html.Label(\"Select a Country:\", style={\"color\":\"white\"}),\n",
    "    dcc.Dropdown(\n",
    "        id=\"country_dropdown\",\n",
    "        options=[{\"label\":c, \"value\":c} for c in winner_count[\"Country\"]],\n",
    "        placeholder = \"Select a country\"\n",
    "    ),\n",
    "    html.Div(id=\"country_output\", style={\"margin-top\":\"10px\", \"font-weight\":\"bold\"}),\n",
    "\n",
    "    html.Label(\"Select a Year:\", style={\"color\":\"white\"}),\n",
    "    dcc.Dropdown(\n",
    "        id=\"year_dropdown\",\n",
    "        options=[{\"label\":y, \"value\":y}for y in df[\"Year\"]],\n",
    "        placeholder = \"Select a Year\"\n",
    "    ),\n",
    "    html.Div(id=\"year_output\", style={\"margin-top\":\"10px\", \"font-weight\":\"bold\"})\n",
    "])\n",
    "\n",
    "@callback(\n",
    "    Output('country_output', 'children'),\n",
    "    Input('country_dropdown', 'value')\n",
    ")\n",
    "def display_wins(selected_country):\n",
    "    if selected_country:\n",
    "        wins = winner_count.loc[winner_count[\"Country\"]==selected_country, \"Wins\"].values[0]\n",
    "        return html.Div(f\"{selected_country} has won the World Cup {wins} times.\", style={\"color\": \"white\"})\n",
    "    return \"\"\n",
    "\n",
    "@callback(\n",
    "    Output('year_output', 'children'),\n",
    "    Input('year_dropdown', 'value')\n",
    ")\n",
    "def display_finalists(selected_year):\n",
    "    if selected_year:\n",
    "        row = df[df[\"Year\"]==selected_year]\n",
    "        return html.Div(f\"Winner: {row['Winner'].values[0]}, Runner-up: {row[\"Runner-up\"].values[0]}\", style={\"color\":\"white\"})\n",
    "    return \"\"\n",
    "\n",
    "if __name__ == '__main__':\n",
    "    app.run(debug=True)\n",
    "\n",
    "\n"
   ]
  }
 ],
 "metadata": {
  "kernelspec": {
   "display_name": "Python 3",
   "language": "python",
   "name": "python3"
  },
  "language_info": {
   "codemirror_mode": {
    "name": "ipython",
    "version": 3
   },
   "file_extension": ".py",
   "mimetype": "text/x-python",
   "name": "python",
   "nbconvert_exporter": "python",
   "pygments_lexer": "ipython3",
   "version": "3.12.5"
  }
 },
 "nbformat": 4,
 "nbformat_minor": 2
}
